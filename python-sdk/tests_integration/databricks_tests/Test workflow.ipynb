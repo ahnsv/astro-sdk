{
 "cells": [
  {
   "cell_type": "code",
   "source": [
    "import logging\n",
    "log4jLogger = sc._jvm.org.apache.log4j\n",
    "LOGGER = log4jLogger.LogManager.getLogger(__name__)\n",
    "LOGGER.info(\"pyspark script logger initialized\")\n",
    "\n",
    "\n",
    "logger.info(\"world hello\")\n",
    "print(\"hello world\")"
   ],
   "metadata": {
    "application/vnd.databricks.v1+cell": {
     "showTitle": false,
     "cellMetadata": {},
     "nuid": "d391beb4-4bf0-41b0-b85f-153a4ef5ff1d",
     "inputWidgets": {},
     "title": ""
    }
   },
   "outputs": [],
   "execution_count": 0
  }
 ],
 "metadata": {
  "application/vnd.databricks.v1+notebook": {
   "notebookName": "Test workflow",
   "dashboards": [],
   "notebookMetadata": {
    "pythonIndentUnit": 4,
    "mostRecentlyExecutedCommandWithImplicitDF": {
     "commandId": 667021647627922,
     "dataframes": [
      "_sqldf"
     ]
    }
   },
   "language": "python",
   "widgets": {},
   "notebookOrigID": 3532289136011851
  }
 },
 "nbformat": 4,
 "nbformat_minor": 0
}
